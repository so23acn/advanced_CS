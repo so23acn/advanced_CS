{
 "cells": [
  {
   "cell_type": "code",
   "execution_count": 1,
   "id": "46da8641",
   "metadata": {},
   "outputs": [
    {
     "name": "stdout",
     "output_type": "stream",
     "text": [
      "Requirement already satisfied: dash in c:\\users\\new user\\anaconda3\\lib\\site-packages (3.0.2)\n",
      "Requirement already satisfied: jupyter_dash in c:\\users\\new user\\anaconda3\\lib\\site-packages (0.4.2)\n",
      "Requirement already satisfied: pandas in c:\\users\\new user\\anaconda3\\lib\\site-packages (1.5.3)\n",
      "Requirement already satisfied: plotly in c:\\users\\new user\\anaconda3\\lib\\site-packages (5.9.0)\n",
      "Requirement already satisfied: Flask<3.1,>=1.0.4 in c:\\users\\new user\\anaconda3\\lib\\site-packages (from dash) (2.2.2)\n",
      "Requirement already satisfied: Werkzeug<3.1 in c:\\users\\new user\\anaconda3\\lib\\site-packages (from dash) (2.2.3)\n",
      "Requirement already satisfied: importlib-metadata in c:\\users\\new user\\anaconda3\\lib\\site-packages (from dash) (6.0.0)\n",
      "Requirement already satisfied: typing-extensions>=4.1.1 in c:\\users\\new user\\anaconda3\\lib\\site-packages (from dash) (4.7.1)\n",
      "Requirement already satisfied: requests in c:\\users\\new user\\anaconda3\\lib\\site-packages (from dash) (2.31.0)\n",
      "Requirement already satisfied: retrying in c:\\users\\new user\\anaconda3\\lib\\site-packages (from dash) (1.3.4)\n",
      "Requirement already satisfied: nest-asyncio in c:\\users\\new user\\anaconda3\\lib\\site-packages (from dash) (1.5.6)\n",
      "Requirement already satisfied: setuptools in c:\\users\\new user\\anaconda3\\lib\\site-packages (from dash) (68.0.0)\n",
      "Requirement already satisfied: ipython in c:\\users\\new user\\anaconda3\\lib\\site-packages (from jupyter_dash) (8.12.0)\n",
      "Requirement already satisfied: ipykernel in c:\\users\\new user\\anaconda3\\lib\\site-packages (from jupyter_dash) (6.19.2)\n",
      "Requirement already satisfied: ansi2html in c:\\users\\new user\\anaconda3\\lib\\site-packages (from jupyter_dash) (1.9.2)\n",
      "Requirement already satisfied: python-dateutil>=2.8.1 in c:\\users\\new user\\anaconda3\\lib\\site-packages (from pandas) (2.8.2)\n",
      "Requirement already satisfied: pytz>=2020.1 in c:\\users\\new user\\anaconda3\\lib\\site-packages (from pandas) (2022.7)\n",
      "Requirement already satisfied: numpy>=1.21.0 in c:\\users\\new user\\anaconda3\\lib\\site-packages (from pandas) (1.24.3)\n",
      "Requirement already satisfied: tenacity>=6.2.0 in c:\\users\\new user\\anaconda3\\lib\\site-packages (from plotly) (8.2.2)\n",
      "Requirement already satisfied: Jinja2>=3.0 in c:\\users\\new user\\anaconda3\\lib\\site-packages (from Flask<3.1,>=1.0.4->dash) (3.1.2)\n",
      "Requirement already satisfied: itsdangerous>=2.0 in c:\\users\\new user\\anaconda3\\lib\\site-packages (from Flask<3.1,>=1.0.4->dash) (2.0.1)\n",
      "Requirement already satisfied: click>=8.0 in c:\\users\\new user\\anaconda3\\lib\\site-packages (from Flask<3.1,>=1.0.4->dash) (8.0.4)\n",
      "Requirement already satisfied: six>=1.5 in c:\\users\\new user\\anaconda3\\lib\\site-packages (from python-dateutil>=2.8.1->pandas) (1.16.0)\n",
      "Requirement already satisfied: MarkupSafe>=2.1.1 in c:\\users\\new user\\anaconda3\\lib\\site-packages (from Werkzeug<3.1->dash) (2.1.1)\n",
      "Requirement already satisfied: zipp>=0.5 in c:\\users\\new user\\anaconda3\\lib\\site-packages (from importlib-metadata->dash) (3.11.0)\n",
      "Requirement already satisfied: comm>=0.1.1 in c:\\users\\new user\\anaconda3\\lib\\site-packages (from ipykernel->jupyter_dash) (0.1.2)\n",
      "Requirement already satisfied: debugpy>=1.0 in c:\\users\\new user\\anaconda3\\lib\\site-packages (from ipykernel->jupyter_dash) (1.6.7)\n",
      "Requirement already satisfied: jupyter-client>=6.1.12 in c:\\users\\new user\\anaconda3\\lib\\site-packages (from ipykernel->jupyter_dash) (7.4.9)\n",
      "Requirement already satisfied: matplotlib-inline>=0.1 in c:\\users\\new user\\anaconda3\\lib\\site-packages (from ipykernel->jupyter_dash) (0.1.6)\n",
      "Requirement already satisfied: packaging in c:\\users\\new user\\anaconda3\\lib\\site-packages (from ipykernel->jupyter_dash) (23.0)\n",
      "Requirement already satisfied: psutil in c:\\users\\new user\\anaconda3\\lib\\site-packages (from ipykernel->jupyter_dash) (5.9.0)\n",
      "Requirement already satisfied: pyzmq>=17 in c:\\users\\new user\\anaconda3\\lib\\site-packages (from ipykernel->jupyter_dash) (23.2.0)\n",
      "Requirement already satisfied: tornado>=6.1 in c:\\users\\new user\\anaconda3\\lib\\site-packages (from ipykernel->jupyter_dash) (6.3.2)\n",
      "Requirement already satisfied: traitlets>=5.4.0 in c:\\users\\new user\\anaconda3\\lib\\site-packages (from ipykernel->jupyter_dash) (5.7.1)\n",
      "Requirement already satisfied: backcall in c:\\users\\new user\\anaconda3\\lib\\site-packages (from ipython->jupyter_dash) (0.2.0)\n",
      "Requirement already satisfied: decorator in c:\\users\\new user\\anaconda3\\lib\\site-packages (from ipython->jupyter_dash) (5.1.1)\n",
      "Requirement already satisfied: jedi>=0.16 in c:\\users\\new user\\anaconda3\\lib\\site-packages (from ipython->jupyter_dash) (0.18.1)\n",
      "Requirement already satisfied: pickleshare in c:\\users\\new user\\anaconda3\\lib\\site-packages (from ipython->jupyter_dash) (0.7.5)\n",
      "Requirement already satisfied: prompt-toolkit!=3.0.37,<3.1.0,>=3.0.30 in c:\\users\\new user\\anaconda3\\lib\\site-packages (from ipython->jupyter_dash) (3.0.36)\n",
      "Requirement already satisfied: pygments>=2.4.0 in c:\\users\\new user\\anaconda3\\lib\\site-packages (from ipython->jupyter_dash) (2.15.1)\n",
      "Requirement already satisfied: stack-data in c:\\users\\new user\\anaconda3\\lib\\site-packages (from ipython->jupyter_dash) (0.2.0)\n",
      "Requirement already satisfied: colorama in c:\\users\\new user\\anaconda3\\lib\\site-packages (from ipython->jupyter_dash) (0.4.6)\n",
      "Requirement already satisfied: charset-normalizer<4,>=2 in c:\\users\\new user\\anaconda3\\lib\\site-packages (from requests->dash) (2.0.4)\n",
      "Requirement already satisfied: idna<4,>=2.5 in c:\\users\\new user\\anaconda3\\lib\\site-packages (from requests->dash) (3.4)\n",
      "Requirement already satisfied: urllib3<3,>=1.21.1 in c:\\users\\new user\\anaconda3\\lib\\site-packages (from requests->dash) (1.26.16)\n",
      "Requirement already satisfied: certifi>=2017.4.17 in c:\\users\\new user\\anaconda3\\lib\\site-packages (from requests->dash) (2023.11.17)\n",
      "Requirement already satisfied: parso<0.9.0,>=0.8.0 in c:\\users\\new user\\anaconda3\\lib\\site-packages (from jedi>=0.16->ipython->jupyter_dash) (0.8.3)\n",
      "Requirement already satisfied: entrypoints in c:\\users\\new user\\anaconda3\\lib\\site-packages (from jupyter-client>=6.1.12->ipykernel->jupyter_dash) (0.4)\n",
      "Requirement already satisfied: jupyter-core>=4.9.2 in c:\\users\\new user\\anaconda3\\lib\\site-packages (from jupyter-client>=6.1.12->ipykernel->jupyter_dash) (5.3.0)\n",
      "Requirement already satisfied: wcwidth in c:\\users\\new user\\anaconda3\\lib\\site-packages (from prompt-toolkit!=3.0.37,<3.1.0,>=3.0.30->ipython->jupyter_dash) (0.2.5)\n",
      "Requirement already satisfied: executing in c:\\users\\new user\\anaconda3\\lib\\site-packages (from stack-data->ipython->jupyter_dash) (0.8.3)\n",
      "Requirement already satisfied: asttokens in c:\\users\\new user\\anaconda3\\lib\\site-packages (from stack-data->ipython->jupyter_dash) (2.0.5)\n",
      "Requirement already satisfied: pure-eval in c:\\users\\new user\\anaconda3\\lib\\site-packages (from stack-data->ipython->jupyter_dash) (0.2.2)\n",
      "Requirement already satisfied: platformdirs>=2.5 in c:\\users\\new user\\anaconda3\\lib\\site-packages (from jupyter-core>=4.9.2->jupyter-client>=6.1.12->ipykernel->jupyter_dash) (2.5.2)\n",
      "Requirement already satisfied: pywin32>=300 in c:\\users\\new user\\anaconda3\\lib\\site-packages (from jupyter-core>=4.9.2->jupyter-client>=6.1.12->ipykernel->jupyter_dash) (305.1)\n"
     ]
    }
   ],
   "source": [
    "!pip install dash jupyter_dash pandas plotly"
   ]
  },
  {
   "cell_type": "code",
   "execution_count": 3,
   "id": "479376ea",
   "metadata": {},
   "outputs": [
    {
     "data": {
      "text/html": [
       "\n",
       "        <iframe\n",
       "            width=\"100%\"\n",
       "            height=\"650\"\n",
       "            src=\"http://localhost:8052/\"\n",
       "            frameborder=\"0\"\n",
       "            allowfullscreen\n",
       "            \n",
       "        ></iframe>\n",
       "        "
      ],
      "text/plain": [
       "<IPython.lib.display.IFrame at 0x20957192110>"
      ]
     },
     "metadata": {},
     "output_type": "display_data"
    }
   ],
   "source": [
    "from dash import Dash, dcc, html\n",
    "import pandas as pd\n",
    "import plotly.express as px\n",
    "import plotly.graph_objects as go\n",
    "\n",
    "# Load the data\n",
    "df = pd.read_csv('healthcare_classification_dataset.csv')\n",
    "\n",
    "# Initialize the Dash app\n",
    "app = Dash(__name__)\n",
    "\n",
    "# 1. Pie Chart: Disease Distribution\n",
    "fig1 = px.pie(df, names='Disease', title='Disease Distribution',\n",
    "              color='Disease',\n",
    "              color_discrete_map={0: 'lightblue', 1: 'salmon'})\n",
    "fig1.update_traces(textposition='inside', textinfo='percent+label')\n",
    "\n",
    "# 2. Histogram: Age Distribution\n",
    "fig2 = px.histogram(df, x='Age', nbins=30, title='Age Distribution', color_discrete_sequence=['indigo'])\n",
    "\n",
    "# 3. Scatter Plot: Blood Pressure vs Cholesterol by Disease\n",
    "fig3 = px.scatter(df, x='BloodPressure', y='Cholesterol', color='Disease',\n",
    "                  title='Blood Pressure vs Cholesterol by Disease',\n",
    "                  labels={'BloodPressure': 'Blood Pressure', 'Cholesterol': 'Cholesterol'},\n",
    "                  color_discrete_map={0: 'green', 1: 'red'})\n",
    "\n",
    "# 4. Box Plot: BMI by Smoking Status\n",
    "fig4 = px.box(df, x='Smoking', y='BMI', title='BMI by Smoking Status',\n",
    "              labels={'Smoking': 'Smoking Status', 'BMI': 'Body Mass Index'})\n",
    "fig4.update_xaxes(tickmode='array', tickvals=[0, 1], ticktext=['Non-Smoker', 'Smoker'])\n",
    "\n",
    "# 5. Bar Plot: Average Heart Rate by Disease\n",
    "avg_heart_rate = df.groupby('Disease')['HeartRate'].mean().reset_index()\n",
    "fig5 = px.bar(avg_heart_rate, x='Disease', y='HeartRate', title='Average Heart Rate by Disease',\n",
    "              labels={'HeartRate': 'Avg Heart Rate', 'Disease': 'Disease Status'},\n",
    "              color='Disease', color_discrete_map={0: 'skyblue', 1: 'crimson'})\n",
    "\n",
    "# Layout\n",
    "app.layout = html.Div(children=[\n",
    "    html.H1('Medical Health Data Dashboard', style={'textAlign': 'center'}),\n",
    "\n",
    "    dcc.Graph(id='fig1', figure=fig1),\n",
    "    dcc.Graph(id='fig2', figure=fig2),\n",
    "    dcc.Graph(id='fig3', figure=fig3),\n",
    "    dcc.Graph(id='fig4', figure=fig4),\n",
    "    dcc.Graph(id='fig5', figure=fig5)\n",
    "])\n",
    "\n",
    "# Run the app\n",
    "if __name__ == '__main__':\n",
    "    app.run(host='localhost', port=8052, debug=True)\n"
   ]
  },
  {
   "cell_type": "code",
   "execution_count": null,
   "id": "6cfe2931",
   "metadata": {},
   "outputs": [],
   "source": []
  }
 ],
 "metadata": {
  "kernelspec": {
   "display_name": "Python 3 (ipykernel)",
   "language": "python",
   "name": "python3"
  },
  "language_info": {
   "codemirror_mode": {
    "name": "ipython",
    "version": 3
   },
   "file_extension": ".py",
   "mimetype": "text/x-python",
   "name": "python",
   "nbconvert_exporter": "python",
   "pygments_lexer": "ipython3",
   "version": "3.11.4"
  }
 },
 "nbformat": 4,
 "nbformat_minor": 5
}
